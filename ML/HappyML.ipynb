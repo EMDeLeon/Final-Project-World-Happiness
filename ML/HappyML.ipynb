{
 "cells": [
  {
   "cell_type": "code",
   "execution_count": 1,
   "metadata": {},
   "outputs": [],
   "source": [
    "# Set the seed value for the notebook so the results are reproducible\n",
    "from numpy.random import seed\n",
    "seed(1)"
   ]
  },
  {
   "cell_type": "code",
   "execution_count": 2,
   "metadata": {},
   "outputs": [],
   "source": [
    "# Dependencies\n",
    "import numpy as np\n",
    "import pandas as pd"
   ]
  },
  {
   "cell_type": "code",
   "execution_count": 3,
   "metadata": {},
   "outputs": [
    {
     "data": {
      "text/plain": [
       "'2.2.4-tf'"
      ]
     },
     "execution_count": 3,
     "metadata": {},
     "output_type": "execute_result"
    }
   ],
   "source": [
    "import tensorflow\n",
    "tensorflow.keras.__version__"
   ]
  },
  {
   "cell_type": "code",
   "execution_count": 4,
   "metadata": {},
   "outputs": [
    {
     "data": {
      "text/html": [
       "<div>\n",
       "<style scoped>\n",
       "    .dataframe tbody tr th:only-of-type {\n",
       "        vertical-align: middle;\n",
       "    }\n",
       "\n",
       "    .dataframe tbody tr th {\n",
       "        vertical-align: top;\n",
       "    }\n",
       "\n",
       "    .dataframe thead th {\n",
       "        text-align: right;\n",
       "    }\n",
       "</style>\n",
       "<table border=\"1\" class=\"dataframe\">\n",
       "  <thead>\n",
       "    <tr style=\"text-align: right;\">\n",
       "      <th></th>\n",
       "      <th>Country</th>\n",
       "      <th>Freedom</th>\n",
       "      <th>GDP</th>\n",
       "      <th>Generosity</th>\n",
       "      <th>Government_Corruption</th>\n",
       "      <th>Happiness_Score</th>\n",
       "      <th>Life_Expectancy</th>\n",
       "      <th>Social_Support</th>\n",
       "      <th>Year</th>\n",
       "      <th>Happiness</th>\n",
       "    </tr>\n",
       "  </thead>\n",
       "  <tbody>\n",
       "    <tr>\n",
       "      <td>0</td>\n",
       "      <td>Switzerland</td>\n",
       "      <td>0.66557</td>\n",
       "      <td>1.39651</td>\n",
       "      <td>0.29678</td>\n",
       "      <td>0.41978</td>\n",
       "      <td>7.587</td>\n",
       "      <td>0.94143</td>\n",
       "      <td>1.34951</td>\n",
       "      <td>2015</td>\n",
       "      <td>Happy</td>\n",
       "    </tr>\n",
       "    <tr>\n",
       "      <td>1</td>\n",
       "      <td>Iceland</td>\n",
       "      <td>0.62877</td>\n",
       "      <td>1.30232</td>\n",
       "      <td>0.43630</td>\n",
       "      <td>0.14145</td>\n",
       "      <td>7.561</td>\n",
       "      <td>0.94784</td>\n",
       "      <td>1.40223</td>\n",
       "      <td>2015</td>\n",
       "      <td>Happy</td>\n",
       "    </tr>\n",
       "    <tr>\n",
       "      <td>2</td>\n",
       "      <td>Denmark</td>\n",
       "      <td>0.64938</td>\n",
       "      <td>1.32548</td>\n",
       "      <td>0.34139</td>\n",
       "      <td>0.48357</td>\n",
       "      <td>7.527</td>\n",
       "      <td>0.87464</td>\n",
       "      <td>1.36058</td>\n",
       "      <td>2015</td>\n",
       "      <td>Happy</td>\n",
       "    </tr>\n",
       "    <tr>\n",
       "      <td>3</td>\n",
       "      <td>Norway</td>\n",
       "      <td>0.66973</td>\n",
       "      <td>1.45900</td>\n",
       "      <td>0.34699</td>\n",
       "      <td>0.36503</td>\n",
       "      <td>7.522</td>\n",
       "      <td>0.88521</td>\n",
       "      <td>1.33095</td>\n",
       "      <td>2015</td>\n",
       "      <td>Happy</td>\n",
       "    </tr>\n",
       "    <tr>\n",
       "      <td>4</td>\n",
       "      <td>Canada</td>\n",
       "      <td>0.63297</td>\n",
       "      <td>1.32629</td>\n",
       "      <td>0.45811</td>\n",
       "      <td>0.32957</td>\n",
       "      <td>7.427</td>\n",
       "      <td>0.90563</td>\n",
       "      <td>1.32261</td>\n",
       "      <td>2015</td>\n",
       "      <td>Happy</td>\n",
       "    </tr>\n",
       "  </tbody>\n",
       "</table>\n",
       "</div>"
      ],
      "text/plain": [
       "       Country  Freedom      GDP  Generosity  Government_Corruption  \\\n",
       "0  Switzerland  0.66557  1.39651     0.29678                0.41978   \n",
       "1      Iceland  0.62877  1.30232     0.43630                0.14145   \n",
       "2      Denmark  0.64938  1.32548     0.34139                0.48357   \n",
       "3       Norway  0.66973  1.45900     0.34699                0.36503   \n",
       "4       Canada  0.63297  1.32629     0.45811                0.32957   \n",
       "\n",
       "   Happiness_Score  Life_Expectancy  Social_Support  Year Happiness  \n",
       "0            7.587          0.94143         1.34951  2015     Happy  \n",
       "1            7.561          0.94784         1.40223  2015     Happy  \n",
       "2            7.527          0.87464         1.36058  2015     Happy  \n",
       "3            7.522          0.88521         1.33095  2015     Happy  \n",
       "4            7.427          0.90563         1.32261  2015     Happy  "
      ]
     },
     "execution_count": 4,
     "metadata": {},
     "output_type": "execute_result"
    }
   ],
   "source": [
    "Happiness = pd.read_csv('YR2015_2019FinalML1.csv')\n",
    "Happiness.head()"
   ]
  },
  {
   "cell_type": "code",
   "execution_count": 9,
   "metadata": {},
   "outputs": [
    {
     "name": "stdout",
     "output_type": "stream",
     "text": [
      "(782, 8) (782,)\n"
     ]
    }
   ],
   "source": [
    "X = Happiness.drop([\"Country\",\"Happiness\"], axis=1)\n",
    "y = Happiness[\"Happiness\"]\n",
    "print(X.shape, y.shape)"
   ]
  },
  {
   "cell_type": "code",
   "execution_count": 10,
   "metadata": {},
   "outputs": [],
   "source": [
    "from sklearn.model_selection import train_test_split\n",
    "from sklearn.preprocessing import LabelEncoder, MinMaxScaler\n",
    "from tensorflow.keras.utils import to_categorical"
   ]
  },
  {
   "cell_type": "code",
   "execution_count": 11,
   "metadata": {},
   "outputs": [],
   "source": [
    "X_train, X_test, y_train, y_test = train_test_split(\n",
    "    X, y, random_state=1)"
   ]
  },
  {
   "cell_type": "code",
   "execution_count": 12,
   "metadata": {},
   "outputs": [],
   "source": [
    "X_scaler = MinMaxScaler().fit(X_train)\n",
    "X_train_scaled = X_scaler.transform(X_train)\n",
    "X_test_scaled = X_scaler.transform(X_test)"
   ]
  },
  {
   "cell_type": "code",
   "execution_count": 13,
   "metadata": {},
   "outputs": [],
   "source": [
    "# Step 1: Label-encode data set\n",
    "label_encoder = LabelEncoder()\n",
    "label_encoder.fit(y_train)\n",
    "encoded_y_train = label_encoder.transform(y_train)\n",
    "encoded_y_test = label_encoder.transform(y_test)"
   ]
  },
  {
   "cell_type": "code",
   "execution_count": 14,
   "metadata": {},
   "outputs": [],
   "source": [
    "# Step 2: Convert encoded labels to one-hot-encoding\n",
    "y_train_categorical = to_categorical(encoded_y_train)\n",
    "y_test_categorical = to_categorical(encoded_y_test)"
   ]
  },
  {
   "cell_type": "code",
   "execution_count": 15,
   "metadata": {},
   "outputs": [],
   "source": [
    "#Create a Deep Learning Model"
   ]
  },
  {
   "cell_type": "code",
   "execution_count": 16,
   "metadata": {},
   "outputs": [],
   "source": [
    "from tensorflow.keras.models import Sequential\n",
    "from tensorflow.keras.layers import Dense"
   ]
  },
  {
   "cell_type": "code",
   "execution_count": 22,
   "metadata": {},
   "outputs": [],
   "source": [
    "# Create model and add layers\n",
    "model = Sequential()\n",
    "model.add(Dense(units=100, activation='relu', input_dim=8))\n",
    "model.add(Dense(units=100, activation='relu'))\n",
    "model.add(Dense(units=2, activation='softmax'))"
   ]
  },
  {
   "cell_type": "code",
   "execution_count": 23,
   "metadata": {},
   "outputs": [],
   "source": [
    "# Compile and fit the model\n",
    "model.compile(optimizer='adam',\n",
    "              loss='categorical_crossentropy',\n",
    "              metrics=['accuracy'])"
   ]
  },
  {
   "cell_type": "code",
   "execution_count": 24,
   "metadata": {},
   "outputs": [
    {
     "name": "stdout",
     "output_type": "stream",
     "text": [
      "Model: \"sequential_1\"\n",
      "_________________________________________________________________\n",
      "Layer (type)                 Output Shape              Param #   \n",
      "=================================================================\n",
      "dense_3 (Dense)              (None, 100)               900       \n",
      "_________________________________________________________________\n",
      "dense_4 (Dense)              (None, 100)               10100     \n",
      "_________________________________________________________________\n",
      "dense_5 (Dense)              (None, 2)                 202       \n",
      "=================================================================\n",
      "Total params: 11,202\n",
      "Trainable params: 11,202\n",
      "Non-trainable params: 0\n",
      "_________________________________________________________________\n"
     ]
    }
   ],
   "source": [
    "model.summary()"
   ]
  },
  {
   "cell_type": "code",
   "execution_count": 25,
   "metadata": {},
   "outputs": [
    {
     "name": "stdout",
     "output_type": "stream",
     "text": [
      "Train on 586 samples\n",
      "Epoch 1/60\n",
      "586/586 - 1s - loss: 0.5049 - accuracy: 0.7440\n",
      "Epoch 2/60\n",
      "586/586 - 0s - loss: 0.3107 - accuracy: 0.8737\n",
      "Epoch 3/60\n",
      "586/586 - 0s - loss: 0.2751 - accuracy: 0.8737\n",
      "Epoch 4/60\n",
      "586/586 - 0s - loss: 0.2387 - accuracy: 0.8754\n",
      "Epoch 5/60\n",
      "586/586 - 0s - loss: 0.2012 - accuracy: 0.9027\n",
      "Epoch 6/60\n",
      "586/586 - 0s - loss: 0.1749 - accuracy: 0.9232\n",
      "Epoch 7/60\n",
      "586/586 - 0s - loss: 0.1629 - accuracy: 0.9232\n",
      "Epoch 8/60\n",
      "586/586 - 0s - loss: 0.1376 - accuracy: 0.9420\n",
      "Epoch 9/60\n",
      "586/586 - 0s - loss: 0.1227 - accuracy: 0.9522\n",
      "Epoch 10/60\n",
      "586/586 - 0s - loss: 0.1146 - accuracy: 0.9539\n",
      "Epoch 11/60\n",
      "586/586 - 0s - loss: 0.0961 - accuracy: 0.9642\n",
      "Epoch 12/60\n",
      "586/586 - 0s - loss: 0.0852 - accuracy: 0.9676\n",
      "Epoch 13/60\n",
      "586/586 - 0s - loss: 0.0993 - accuracy: 0.9608\n",
      "Epoch 14/60\n",
      "586/586 - 0s - loss: 0.0727 - accuracy: 0.9863\n",
      "Epoch 15/60\n",
      "586/586 - 0s - loss: 0.0804 - accuracy: 0.9693\n",
      "Epoch 16/60\n",
      "586/586 - 0s - loss: 0.0586 - accuracy: 0.9881\n",
      "Epoch 17/60\n",
      "586/586 - 0s - loss: 0.0529 - accuracy: 0.9949\n",
      "Epoch 18/60\n",
      "586/586 - 0s - loss: 0.0491 - accuracy: 0.9932\n",
      "Epoch 19/60\n",
      "586/586 - 0s - loss: 0.0446 - accuracy: 0.9949\n",
      "Epoch 20/60\n",
      "586/586 - 0s - loss: 0.0424 - accuracy: 0.9898\n",
      "Epoch 21/60\n",
      "586/586 - 0s - loss: 0.0415 - accuracy: 0.9915\n",
      "Epoch 22/60\n",
      "586/586 - 0s - loss: 0.0344 - accuracy: 0.9983\n",
      "Epoch 23/60\n",
      "586/586 - 0s - loss: 0.0349 - accuracy: 0.9966\n",
      "Epoch 24/60\n",
      "586/586 - 0s - loss: 0.0319 - accuracy: 0.9983\n",
      "Epoch 25/60\n",
      "586/586 - 0s - loss: 0.0300 - accuracy: 0.9983\n",
      "Epoch 26/60\n",
      "586/586 - 0s - loss: 0.0316 - accuracy: 0.9915\n",
      "Epoch 27/60\n",
      "586/586 - 0s - loss: 0.0271 - accuracy: 0.9983\n",
      "Epoch 28/60\n",
      "586/586 - 0s - loss: 0.0278 - accuracy: 0.9949\n",
      "Epoch 29/60\n",
      "586/586 - 0s - loss: 0.0249 - accuracy: 0.9966\n",
      "Epoch 30/60\n",
      "586/586 - 0s - loss: 0.0229 - accuracy: 0.9983\n",
      "Epoch 31/60\n",
      "586/586 - 0s - loss: 0.0226 - accuracy: 1.0000\n",
      "Epoch 32/60\n",
      "586/586 - 0s - loss: 0.0209 - accuracy: 0.9983\n",
      "Epoch 33/60\n",
      "586/586 - 0s - loss: 0.0229 - accuracy: 0.9932\n",
      "Epoch 34/60\n",
      "586/586 - 0s - loss: 0.0201 - accuracy: 1.0000\n",
      "Epoch 35/60\n",
      "586/586 - 0s - loss: 0.0196 - accuracy: 0.9966\n",
      "Epoch 36/60\n",
      "586/586 - 0s - loss: 0.0200 - accuracy: 0.9966\n",
      "Epoch 37/60\n",
      "586/586 - 0s - loss: 0.0169 - accuracy: 1.0000\n",
      "Epoch 38/60\n",
      "586/586 - 0s - loss: 0.0174 - accuracy: 0.9966\n",
      "Epoch 39/60\n",
      "586/586 - 0s - loss: 0.0146 - accuracy: 0.9983\n",
      "Epoch 40/60\n",
      "586/586 - 0s - loss: 0.0190 - accuracy: 0.9966\n",
      "Epoch 41/60\n",
      "586/586 - 0s - loss: 0.0153 - accuracy: 0.9983\n",
      "Epoch 42/60\n",
      "586/586 - 0s - loss: 0.0195 - accuracy: 0.9966\n",
      "Epoch 43/60\n",
      "586/586 - 0s - loss: 0.0195 - accuracy: 0.9932\n",
      "Epoch 44/60\n",
      "586/586 - 0s - loss: 0.0133 - accuracy: 1.0000\n",
      "Epoch 45/60\n",
      "586/586 - 0s - loss: 0.0149 - accuracy: 0.9966\n",
      "Epoch 46/60\n",
      "586/586 - 0s - loss: 0.0131 - accuracy: 1.0000\n",
      "Epoch 47/60\n",
      "586/586 - 0s - loss: 0.0113 - accuracy: 1.0000\n",
      "Epoch 48/60\n",
      "586/586 - 0s - loss: 0.0139 - accuracy: 0.9983\n",
      "Epoch 49/60\n",
      "586/586 - 0s - loss: 0.0150 - accuracy: 0.9966\n",
      "Epoch 50/60\n",
      "586/586 - 0s - loss: 0.0131 - accuracy: 0.9966\n",
      "Epoch 51/60\n",
      "586/586 - 0s - loss: 0.0115 - accuracy: 1.0000\n",
      "Epoch 52/60\n",
      "586/586 - 0s - loss: 0.0155 - accuracy: 0.9966\n",
      "Epoch 53/60\n",
      "586/586 - 0s - loss: 0.0143 - accuracy: 0.9932\n",
      "Epoch 54/60\n",
      "586/586 - 0s - loss: 0.0130 - accuracy: 0.9966\n",
      "Epoch 55/60\n",
      "586/586 - 0s - loss: 0.0102 - accuracy: 0.9983\n",
      "Epoch 56/60\n",
      "586/586 - 0s - loss: 0.0110 - accuracy: 1.0000\n",
      "Epoch 57/60\n",
      "586/586 - 0s - loss: 0.0123 - accuracy: 0.9966\n",
      "Epoch 58/60\n",
      "586/586 - 0s - loss: 0.0223 - accuracy: 0.9915\n",
      "Epoch 59/60\n",
      "586/586 - 0s - loss: 0.0212 - accuracy: 0.9898\n",
      "Epoch 60/60\n",
      "586/586 - 0s - loss: 0.0228 - accuracy: 0.9915\n"
     ]
    },
    {
     "data": {
      "text/plain": [
       "<tensorflow.python.keras.callbacks.History at 0x166b5fa5248>"
      ]
     },
     "execution_count": 25,
     "metadata": {},
     "output_type": "execute_result"
    }
   ],
   "source": [
    "model.fit(\n",
    "    X_train_scaled,\n",
    "    y_train_categorical,\n",
    "    epochs=60,\n",
    "    shuffle=True,\n",
    "    verbose=2\n",
    ")"
   ]
  },
  {
   "cell_type": "code",
   "execution_count": 26,
   "metadata": {},
   "outputs": [],
   "source": [
    "#Quantify our Trained Model"
   ]
  },
  {
   "cell_type": "code",
   "execution_count": 27,
   "metadata": {},
   "outputs": [
    {
     "name": "stdout",
     "output_type": "stream",
     "text": [
      "196/1 - 0s - loss: 0.0768 - accuracy: 0.9847\n",
      "Normal Neural Network - Loss: 0.035121135204574286, Accuracy: 0.9846938848495483\n"
     ]
    }
   ],
   "source": [
    "model_loss, model_accuracy = model.evaluate(\n",
    "    X_test_scaled, y_test_categorical, verbose=2)\n",
    "print(\n",
    "    f\"Normal Neural Network - Loss: {model_loss}, Accuracy: {model_accuracy}\")"
   ]
  },
  {
   "cell_type": "code",
   "execution_count": 32,
   "metadata": {},
   "outputs": [],
   "source": [
    "encoded_predictions = model.predict_classes(X_test_scaled[:150])\n",
    "prediction_labels = label_encoder.inverse_transform(encoded_predictions)"
   ]
  },
  {
   "cell_type": "code",
   "execution_count": 33,
   "metadata": {},
   "outputs": [
    {
     "name": "stdout",
     "output_type": "stream",
     "text": [
      "Predicted classes: ['Happy' 'Happy' 'Happy' 'NotHappy' 'Happy' 'Happy' 'NotHappy' 'Happy'\n",
      " 'Happy' 'Happy' 'Happy' 'Happy' 'Happy' 'Happy' 'Happy' 'Happy' 'Happy'\n",
      " 'Happy' 'Happy' 'Happy' 'Happy' 'Happy' 'Happy' 'Happy' 'Happy' 'Happy'\n",
      " 'Happy' 'Happy' 'NotHappy' 'Happy' 'Happy' 'Happy' 'Happy' 'Happy'\n",
      " 'Happy' 'Happy' 'Happy' 'Happy' 'Happy' 'Happy' 'Happy' 'Happy'\n",
      " 'NotHappy' 'NotHappy' 'Happy' 'Happy' 'NotHappy' 'Happy' 'NotHappy'\n",
      " 'Happy' 'Happy' 'Happy' 'NotHappy' 'Happy' 'NotHappy' 'NotHappy' 'Happy'\n",
      " 'Happy' 'Happy' 'Happy' 'Happy' 'Happy' 'NotHappy' 'Happy' 'NotHappy'\n",
      " 'Happy' 'Happy' 'Happy' 'Happy' 'Happy' 'Happy' 'Happy' 'Happy' 'Happy'\n",
      " 'Happy' 'Happy' 'Happy' 'Happy' 'Happy' 'Happy' 'Happy' 'Happy' 'Happy'\n",
      " 'Happy' 'Happy' 'Happy' 'Happy' 'Happy' 'Happy' 'NotHappy' 'Happy'\n",
      " 'NotHappy' 'Happy' 'Happy' 'Happy' 'Happy' 'NotHappy' 'Happy' 'Happy'\n",
      " 'Happy' 'Happy' 'Happy' 'Happy' 'Happy' 'Happy' 'NotHappy' 'Happy'\n",
      " 'NotHappy' 'Happy' 'Happy' 'Happy' 'Happy' 'Happy' 'Happy' 'Happy'\n",
      " 'Happy' 'Happy' 'Happy' 'Happy' 'Happy' 'Happy' 'Happy' 'Happy' 'Happy'\n",
      " 'Happy' 'Happy' 'Happy' 'NotHappy' 'Happy' 'Happy' 'Happy' 'Happy'\n",
      " 'Happy' 'Happy' 'Happy' 'Happy' 'Happy' 'Happy' 'Happy' 'Happy' 'Happy'\n",
      " 'Happy' 'Happy' 'Happy' 'Happy' 'NotHappy' 'Happy' 'Happy' 'NotHappy'\n",
      " 'Happy']\n",
      "Actual Labels: ['Happy', 'Happy', 'Happy', 'NotHappy', 'Happy', 'Happy', 'NotHappy', 'Happy', 'Happy', 'Happy', 'Happy', 'Happy', 'Happy', 'Happy', 'Happy', 'Happy', 'Happy', 'Happy', 'Happy', 'Happy', 'Happy', 'Happy', 'Happy', 'Happy', 'Happy', 'Happy', 'Happy', 'Happy', 'NotHappy', 'Happy', 'Happy', 'Happy', 'Happy', 'Happy', 'Happy', 'Happy', 'Happy', 'Happy', 'Happy', 'Happy', 'Happy', 'Happy', 'NotHappy', 'Happy', 'Happy', 'Happy', 'NotHappy', 'Happy', 'NotHappy', 'Happy', 'Happy', 'Happy', 'Happy', 'Happy', 'NotHappy', 'NotHappy', 'Happy', 'Happy', 'Happy', 'Happy', 'Happy', 'Happy', 'NotHappy', 'Happy', 'NotHappy', 'Happy', 'Happy', 'Happy', 'Happy', 'Happy', 'Happy', 'Happy', 'Happy', 'Happy', 'Happy', 'Happy', 'Happy', 'Happy', 'Happy', 'Happy', 'Happy', 'Happy', 'Happy', 'Happy', 'Happy', 'Happy', 'Happy', 'Happy', 'Happy', 'NotHappy', 'Happy', 'NotHappy', 'Happy', 'Happy', 'Happy', 'Happy', 'NotHappy', 'Happy', 'Happy', 'Happy', 'Happy', 'Happy', 'Happy', 'Happy', 'Happy', 'Happy', 'Happy', 'NotHappy', 'Happy', 'Happy', 'Happy', 'Happy', 'Happy', 'Happy', 'Happy', 'Happy', 'Happy', 'Happy', 'Happy', 'Happy', 'Happy', 'Happy', 'Happy', 'Happy', 'Happy', 'Happy', 'Happy', 'NotHappy', 'Happy', 'Happy', 'Happy', 'Happy', 'Happy', 'Happy', 'Happy', 'Happy', 'Happy', 'Happy', 'Happy', 'Happy', 'Happy', 'Happy', 'Happy', 'Happy', 'Happy', 'NotHappy', 'Happy', 'Happy', 'NotHappy', 'Happy']\n"
     ]
    }
   ],
   "source": [
    "print(f\"Predicted classes: {prediction_labels}\")\n",
    "print(f\"Actual Labels: {list(y_test[:150])}\")"
   ]
  },
  {
   "cell_type": "code",
   "execution_count": null,
   "metadata": {},
   "outputs": [],
   "source": []
  }
 ],
 "metadata": {
  "kernelspec": {
   "display_name": "Python 3",
   "language": "python",
   "name": "python3"
  },
  "language_info": {
   "codemirror_mode": {
    "name": "ipython",
    "version": 3
   },
   "file_extension": ".py",
   "mimetype": "text/x-python",
   "name": "python",
   "nbconvert_exporter": "python",
   "pygments_lexer": "ipython3",
   "version": "3.7.4"
  }
 },
 "nbformat": 4,
 "nbformat_minor": 2
}
